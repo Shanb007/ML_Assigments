{
  "nbformat": 4,
  "nbformat_minor": 0,
  "metadata": {
    "colab": {
      "name": "Assignment_3_ML",
      "provenance": [],
      "authorship_tag": "ABX9TyObaj4uqi6ZnjrW15zs/S6I",
      "include_colab_link": true
    },
    "kernelspec": {
      "name": "python3",
      "display_name": "Python 3"
    }
  },
  "cells": [
    {
      "cell_type": "markdown",
      "metadata": {
        "id": "view-in-github",
        "colab_type": "text"
      },
      "source": [
        "<a href=\"https://colab.research.google.com/github/Shanb007/ML_Assigments/blob/master/Assignment_3_ML.ipynb\" target=\"_parent\"><img src=\"https://colab.research.google.com/assets/colab-badge.svg\" alt=\"Open In Colab\"/></a>"
      ]
    },
    {
      "cell_type": "code",
      "metadata": {
        "id": "rb8DvLW2dZqi",
        "colab_type": "code",
        "colab": {
          "resources": {
            "http://localhost:8080/nbextensions/google.colab/files.js": {
              "data": "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",
              "ok": true,
              "headers": [
                [
                  "content-type",
                  "application/javascript"
                ]
              ],
              "status": 200,
              "status_text": "OK"
            }
          },
          "base_uri": "https://localhost:8080/",
          "height": 281
        },
        "outputId": "253b9e56-d50b-4881-d768-d4aa5f5aff9c"
      },
      "source": [
        "import statsmodels.api as sm \n",
        "import pandas as pd \n",
        "import numpy as np\n",
        "from sklearn.linear_model import LinearRegression\n",
        "from sklearn.model_selection import train_test_split\n",
        "from sklearn.datasets import load_iris\n",
        "import io\n",
        "from google.colab import files\n",
        "uploaded = files.upload()\n",
        "df = pd.read_excel(io.BytesIO(uploaded['slr06.xls']))\n",
        "df.head()"
      ],
      "execution_count": null,
      "outputs": [
        {
          "output_type": "display_data",
          "data": {
            "text/html": [
              "\n",
              "     <input type=\"file\" id=\"files-287e633d-0dae-46c4-8d6a-0e55db208c3f\" name=\"files[]\" multiple disabled\n",
              "        style=\"border:none\" />\n",
              "     <output id=\"result-287e633d-0dae-46c4-8d6a-0e55db208c3f\">\n",
              "      Upload widget is only available when the cell has been executed in the\n",
              "      current browser session. Please rerun this cell to enable.\n",
              "      </output>\n",
              "      <script src=\"/nbextensions/google.colab/files.js\"></script> "
            ],
            "text/plain": [
              "<IPython.core.display.HTML object>"
            ]
          },
          "metadata": {
            "tags": []
          }
        },
        {
          "output_type": "stream",
          "text": [
            "Saving slr06.xls to slr06 (1).xls\n",
            "*** No CODEPAGE record, no encoding_override: will use 'ascii'\n"
          ],
          "name": "stdout"
        },
        {
          "output_type": "execute_result",
          "data": {
            "text/html": [
              "<div>\n",
              "<style scoped>\n",
              "    .dataframe tbody tr th:only-of-type {\n",
              "        vertical-align: middle;\n",
              "    }\n",
              "\n",
              "    .dataframe tbody tr th {\n",
              "        vertical-align: top;\n",
              "    }\n",
              "\n",
              "    .dataframe thead th {\n",
              "        text-align: right;\n",
              "    }\n",
              "</style>\n",
              "<table border=\"1\" class=\"dataframe\">\n",
              "  <thead>\n",
              "    <tr style=\"text-align: right;\">\n",
              "      <th></th>\n",
              "      <th>X</th>\n",
              "      <th>Y</th>\n",
              "    </tr>\n",
              "  </thead>\n",
              "  <tbody>\n",
              "    <tr>\n",
              "      <th>0</th>\n",
              "      <td>108</td>\n",
              "      <td>392.5</td>\n",
              "    </tr>\n",
              "    <tr>\n",
              "      <th>1</th>\n",
              "      <td>19</td>\n",
              "      <td>46.2</td>\n",
              "    </tr>\n",
              "    <tr>\n",
              "      <th>2</th>\n",
              "      <td>13</td>\n",
              "      <td>15.7</td>\n",
              "    </tr>\n",
              "    <tr>\n",
              "      <th>3</th>\n",
              "      <td>124</td>\n",
              "      <td>422.2</td>\n",
              "    </tr>\n",
              "    <tr>\n",
              "      <th>4</th>\n",
              "      <td>40</td>\n",
              "      <td>119.4</td>\n",
              "    </tr>\n",
              "  </tbody>\n",
              "</table>\n",
              "</div>"
            ],
            "text/plain": [
              "     X      Y\n",
              "0  108  392.5\n",
              "1   19   46.2\n",
              "2   13   15.7\n",
              "3  124  422.2\n",
              "4   40  119.4"
            ]
          },
          "metadata": {
            "tags": []
          },
          "execution_count": 37
        }
      ]
    },
    {
      "cell_type": "code",
      "metadata": {
        "id": "NvPU80gOUkA6",
        "colab_type": "code",
        "colab": {
          "base_uri": "https://localhost:8080/",
          "height": 52
        },
        "outputId": "6ae35898-c2c5-4e64-d1cb-c777dafbe445"
      },
      "source": [
        "y1=df.drop('X',axis=1)\n",
        "x1=df.drop('Y',axis=1)\n",
        "x, x_test, y, y_test = train_test_split(x1,y1,test_size=0.2,train_size=0.8)\n",
        "x_train, x_v, y_train, y_v = train_test_split(x,y,test_size = 0.25,train_size =0.75)\n",
        "y_train= pd.to_numeric(y_train['Y'])\n",
        "x_train = pd.to_numeric(x_train['X'])\n",
        "xy=0.0;\n",
        "x7=0.0;\n",
        "x_m=0.0;\n",
        "y_m=0.0;\n",
        "x5=x_train.to_numpy();\n",
        "y5=y_train.to_numpy();\n",
        "for i in range(0,len(x5)):\n",
        "  x_m=x_m+x5[i];\n",
        "  y_m=y_m+y5[i];\n",
        "x_m=x_m/len(x5);\n",
        "y_m=y_m/len(x5);\n",
        "for i in range(0,len(x5)):\n",
        "  xy=xy+(x5[i]-x_m)*(y5[i]-y_m);\n",
        "  x7=x7+(x5[i]-x_m)*(x5[i]-x_m);\n",
        "b=xy/x7;\n",
        "b1=y_m-b*x_m;\n",
        "print(\"b:\",b);\n",
        "print('b1:',b1);\n"
      ],
      "execution_count": null,
      "outputs": [
        {
          "output_type": "stream",
          "text": [
            "b: 3.6450007548329166\n",
            "b1: 16.93241570370293\n"
          ],
          "name": "stdout"
        }
      ]
    },
    {
      "cell_type": "code",
      "metadata": {
        "id": "7Eln8bOww1lp",
        "colab_type": "code",
        "colab": {
          "base_uri": "https://localhost:8080/",
          "height": 69
        },
        "outputId": "6a87b885-c056-4d24-df74-3b29c62c7203"
      },
      "source": [
        "\n",
        "from sklearn.metrics import mean_absolute_error\n",
        "\n",
        "max_x = x_train.max() \n",
        "min_x = x_train.min()  \n",
        "x_tr = np.arange(min_x, max_x, 1)\n",
        "y = b* x_tr + b1\n",
        "\n",
        "y=b*x_train +b1\n",
        "result=mean_absolute_error(y_train, y)\n",
        "\n",
        "print(\"Training Set Error:\",result)\n",
        "\n",
        "max_x = x_test['X'].max() \n",
        "min_x = x_test['X'].min()  \n",
        "x_tr = np.arange(min_x, max_x, 1)\n",
        "y = b* x_tr + b1\n",
        "\n",
        "y=b*x_test +b1\n",
        "\n",
        "result=mean_absolute_error(y_test, y)\n",
        "print(\"Test Set Error:\",result)\n",
        "\n",
        "max_x = x_v['X'].max() \n",
        "min_x = x_v['X'].min()  \n",
        "x_tr = np.arange(min_x, max_x, 1)\n",
        "y = b* x_tr + b1\n",
        "\n",
        "y=b*x_v +b1\n",
        "\n",
        "result=mean_absolute_error(y_v, y)\n",
        "print(\"Validation Set Error:\",result)"
      ],
      "execution_count": null,
      "outputs": [
        {
          "output_type": "stream",
          "text": [
            "Training Set Error: 32.707355064742764\n",
            "Test Set Error: 21.77982964205436\n",
            "Validation Set Error: 26.18212767535298\n"
          ],
          "name": "stdout"
        }
      ]
    },
    {
      "cell_type": "code",
      "metadata": {
        "id": "DxwLfB_6VcCh",
        "colab_type": "code",
        "colab": {
          "base_uri": "https://localhost:8080/",
          "height": 86
        },
        "outputId": "83c66856-6c50-4a5d-83f5-501f5499bbd1"
      },
      "source": [
        "m = 0\n",
        "c = 0\n",
        "L = 0.0001\n",
        "epochs = 1000\n",
        "\n",
        "n = len(y_train) # Number of elements in X\n",
        "\n",
        "# Performing Gradient Descent \n",
        "\n",
        "for i in range(0, epochs): \n",
        "    Y_pred = m*x_train + c  # The current predicted value of Y\n",
        "    D_m = (-2/n) * sum(x_train * (y_train - Y_pred))  # Derivative wrt m\n",
        "    D_c = (-2/n) * sum(y_train - Y_pred)  # Derivative wrt c\n",
        "    m = m - L * D_m  # Update m\n",
        "    c = c - L * D_c  # Update c\n",
        "print(m,c)\n",
        "max_x = x_train.max() \n",
        "min_x = x_train.min()  \n",
        "x_tr = np.arange(min_x, max_x, 1)\n",
        "y = m* x_tr + c\n",
        " \n",
        "y=m*x_train +c\n",
        "result=mean_absolute_error(y_train, y)\n",
        "\n",
        "print(\"Training Set:\",result)\n",
        "\n",
        "max_x = x_test['X'].max() \n",
        "min_x = x_test['X'].min()  \n",
        "x_tr = np.arange(min_x, max_x, 1)\n",
        "y = m* x_tr + c\n",
        "\n",
        "y=m*x_test +c\n",
        "\n",
        "result=mean_absolute_error(y_test, y)\n",
        "print(\"Test Set:\",result)\n",
        "\n",
        "max_x = x_v['X'].max() \n",
        "min_x = x_v['X'].min()  \n",
        "x_tr = np.arange(min_x, max_x, 1)\n",
        "y = m* x_tr + c\n",
        "\n",
        "y=m*x_v +c\n",
        "\n",
        "result=mean_absolute_error(y_v, y)\n",
        "print(\"Validation Set:\",result)\n"
      ],
      "execution_count": null,
      "outputs": [
        {
          "output_type": "stream",
          "text": [
            "3.9672940853377505 1.7758106516000953\n",
            "Training Set: 31.94500208310987\n",
            "Test Set: 27.68457956641668\n",
            "Validation Set: 29.827199837090383\n"
          ],
          "name": "stdout"
        }
      ]
    },
    {
      "cell_type": "code",
      "metadata": {
        "id": "UsQ1RyLKBW1G",
        "colab_type": "code",
        "colab": {}
      },
      "source": [
        "#ques 2"
      ],
      "execution_count": null,
      "outputs": []
    },
    {
      "cell_type": "code",
      "metadata": {
        "id": "NctxPmvLaz_E",
        "colab_type": "code",
        "colab": {
          "base_uri": "https://localhost:8080/",
          "height": 660
        },
        "outputId": "bc13a41d-e680-4bd2-d1b2-1cc6d5067f23"
      },
      "source": [
        "from sklearn.datasets import load_boston\n",
        "\n",
        "boston_dataset = load_boston(return_X_y=False)\n",
        "boston = pd.DataFrame(boston_dataset.data, columns=boston_dataset.feature_names)\n",
        "boston['MEDV'] = boston_dataset.target # Median value of owner-occupied homes in $1000s ( we have to predict it )\n",
        "data = boston.to_numpy() #converting DataFrames to numpy array\n",
        "print(\"boston data shape (row,column):\",data.shape)\n",
        "\n",
        "#dividing data into training set , validation set and test set\n",
        "sz = data[:,0].size\n",
        "train_data = data[0:int(sz*0.6),:]\n",
        "validate_data = data[int(sz*0.6) : int(sz*0.8)   , :]\n",
        "test_data = data[int(sz*0.8)  : , :]\n",
        "print(\"total_data:\" ,sz)\n",
        "print(\"train_data:\" , train_data[:,0].size)\n",
        "print(\"validation_data:\" ,validate_data[:,0].size)\n",
        "print(\"test_data:\" ,test_data[:,0].size) \n",
        "\n",
        "\n",
        "# gradientDescent function to calculate optimal theta\n",
        "def gradientDescent(X, y, theta, alpha, num_iters):\n",
        "    m = y.size  # number of training examples\n",
        "    for i in range(num_iters):\n",
        "        y_hat = np.dot(X, theta) # y_predicted (predicted housing price)\n",
        "        theta = theta - alpha * (1.0/m) * np.dot(X.T, y_hat-y) \n",
        "    return theta\n",
        "\n",
        "\n",
        "# adding column of ones to the data sets for theta0 ( i.e. the first parameter int theta )\n",
        "n=train_data[:,0].size\n",
        "ones=np.ones((n,1))\n",
        "train_data = np.column_stack((ones,train_data)) # or like -> np.c_[ones, train_data]\n",
        "\n",
        "n=validate_data[:,0].size\n",
        "ones=np.ones((n,1))\n",
        "validate_data = np.column_stack((ones,validate_data))\n",
        "\n",
        "n=test_data[:,0].size\n",
        "ones=np.ones((n,1))\n",
        "test_data = np.column_stack((ones,test_data))\n",
        "\n",
        "\n",
        "\n",
        "print(\"GRADIENT DESCENT ALGORITHM STARTS:\")\n",
        "nrow,ncol = data.shape\n",
        "x = train_data[:,0:ncol]\n",
        "y = train_data[:,ncol:]\n",
        "theta = np.zeros((ncol,1))\n",
        "alpha = 0.000001\n",
        "iter = 100000\n",
        "theta = gradientDescent(x,y,theta,alpha,iter)\n",
        "print(\"theta from training set:\",theta)\n",
        "y_predicted = np.dot(x,theta) \n",
        "mae = mean_absolute_error(y_predicted , y)\n",
        "\n",
        "# tuning the hyper-parameter (alpha) using validation data_set\n",
        "values_of_alpha = [0.000003 , 0.000001, 0.0000003 , 0.00000001 , 0.00000003]\n",
        "min_mae = mae\n",
        "res_alpha = alpha\n",
        "res_theta = theta\n",
        "x = validate_data[:,0:ncol]\n",
        "y = validate_data[:,ncol:]\n",
        "\n",
        "for alpha in values_of_alpha: # finding the best value of alpha which gives minimum value of MAE on validation set\n",
        "  theta = np.zeros((ncol,1))\n",
        "  theta = gradientDescent(x,y,theta,alpha,iter)\n",
        "  y_predicted = np.dot(x,theta) \n",
        "  mae = mean_absolute_error(y_predicted , y)\n",
        "  if mae < min_mae:\n",
        "    res_alpha = alpha\n",
        "    res_theta = theta\n",
        "    min_mae = mae\n",
        "\n",
        "theta = res_theta\n",
        "print(\"theta after tuning alpha from validation set:\",theta)\n",
        " \n",
        "\n",
        "# calculating accuracy on train data \n",
        "x = train_data[:,0:ncol]\n",
        "y = train_data[:,ncol:]\n",
        "\n",
        "y_predicted = np.dot(x,theta) \n",
        "mae = mean_absolute_error(y_predicted , y)\n",
        "print(\"MEAN ABSOLUTE ERROR ON TRAINING DATA:\",mae)\n",
        "\n",
        "\n",
        "# calculating accuracy on validation data \n",
        "x = validate_data[:,0:ncol]\n",
        "y = validate_data[:,ncol:]\n",
        "\n",
        "y_predicted = np.dot(x,theta) \n",
        "mae = mean_absolute_error(y_predicted , y)\n",
        "print(\"MEAN ABSOLUTE ERROR ON VALIDATING DATA:\",mae)\n",
        "\n",
        "\n",
        "# calculating accuracy on test data \n",
        "x = test_data[:,0:ncol]\n",
        "y = test_data[:,ncol:]\n",
        "\n",
        "y_predicted = np.dot(x,theta) \n",
        "mae = mean_absolute_error(y_predicted , y)\n",
        "print(\"MEAN ABSOLUTE ERROR ON TEST  DATA:\",mae)\n",
        "\n",
        "\n"
      ],
      "execution_count": null,
      "outputs": [
        {
          "output_type": "stream",
          "text": [
            "boston data shape (row,column): (506, 14)\n",
            "total_data: 506\n",
            "train_data: 303\n",
            "validation_data: 101\n",
            "test_data: 102\n",
            "GRADIENT DESCENT ALGORITHM STARTS:\n",
            "theta from training set: [[ 0.02277276]\n",
            " [ 0.07891455]\n",
            " [ 0.06918869]\n",
            " [-0.01713093]\n",
            " [ 0.02599327]\n",
            " [ 0.0184991 ]\n",
            " [ 0.44055185]\n",
            " [ 0.08587467]\n",
            " [-0.15999092]\n",
            " [ 0.17182027]\n",
            " [-0.00092437]\n",
            " [-0.15714102]\n",
            " [ 0.07412098]\n",
            " [-0.85012851]]\n",
            "theta after tuning alpha from validation set: [[ 0.04225091]\n",
            " [-0.12855066]\n",
            " [ 0.06273439]\n",
            " [-0.07674999]\n",
            " [ 0.10012007]\n",
            " [-0.00796301]\n",
            " [ 0.10373847]\n",
            " [ 0.08264848]\n",
            " [-0.23843666]\n",
            " [ 0.18461958]\n",
            " [ 0.004664  ]\n",
            " [ 0.483971  ]\n",
            " [ 0.0399667 ]\n",
            " [-1.02870376]]\n",
            "MEAN ABSOLUTE ERROR ON TRAINING DATA: 6.227073327937616\n",
            "MEAN ABSOLUTE ERROR ON VALIDATING DATA: 4.592752365421676\n",
            "MEAN ABSOLUTE ERROR ON TEST  DATA: 6.030333031725009\n"
          ],
          "name": "stdout"
        }
      ]
    },
    {
      "cell_type": "code",
      "metadata": {
        "id": "6aMlpastBzEj",
        "colab_type": "code",
        "colab": {}
      },
      "source": [
        ""
      ],
      "execution_count": null,
      "outputs": []
    }
  ]
}