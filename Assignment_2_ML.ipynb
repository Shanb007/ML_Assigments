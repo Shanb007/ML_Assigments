{
  "nbformat": 4,
  "nbformat_minor": 0,
  "metadata": {
    "colab": {
      "name": "Assignment_2_ML",
      "provenance": [],
      "authorship_tag": "ABX9TyNsm9y5I6S4jZpCi/q3LWmI",
      "include_colab_link": true
    },
    "kernelspec": {
      "name": "python3",
      "display_name": "Python 3"
    }
  },
  "cells": [
    {
      "cell_type": "markdown",
      "metadata": {
        "id": "view-in-github",
        "colab_type": "text"
      },
      "source": [
        "<a href=\"https://colab.research.google.com/github/Shanb007/ML_Assigments/blob/master/Assignment_2_ML.ipynb\" target=\"_parent\"><img src=\"https://colab.research.google.com/assets/colab-badge.svg\" alt=\"Open In Colab\"/></a>"
      ]
    },
    {
      "cell_type": "code",
      "metadata": {
        "id": "6_waVjXWY74f",
        "colab_type": "code",
        "colab": {
          "resources": {
            "http://localhost:8080/nbextensions/google.colab/files.js": {
              "data": "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",
              "ok": true,
              "headers": [
                [
                  "content-type",
                  "application/javascript"
                ]
              ],
              "status": 200,
              "status_text": "OK"
            }
          },
          "base_uri": "https://localhost:8080/",
          "height": 264
        },
        "outputId": "ef9f7050-5bc6-4bcd-bf12-b9a124be5dd2"
      },
      "source": [
        "#part1que1\n",
        "import pandas as pd\n",
        "import io\n",
        "from google.colab import files\n",
        "uploaded = files.upload()\n",
        "df = pd.read_csv(io.BytesIO(uploaded['wine.csv']))\n",
        "df.head()"
      ],
      "execution_count": null,
      "outputs": [
        {
          "output_type": "display_data",
          "data": {
            "text/html": [
              "\n",
              "     <input type=\"file\" id=\"files-803517c9-5d91-444a-b36f-ad297cc340c9\" name=\"files[]\" multiple disabled\n",
              "        style=\"border:none\" />\n",
              "     <output id=\"result-803517c9-5d91-444a-b36f-ad297cc340c9\">\n",
              "      Upload widget is only available when the cell has been executed in the\n",
              "      current browser session. Please rerun this cell to enable.\n",
              "      </output>\n",
              "      <script src=\"/nbextensions/google.colab/files.js\"></script> "
            ],
            "text/plain": [
              "<IPython.core.display.HTML object>"
            ]
          },
          "metadata": {
            "tags": []
          }
        },
        {
          "output_type": "stream",
          "text": [
            "Saving wine.csv to wine (4).csv\n"
          ],
          "name": "stdout"
        },
        {
          "output_type": "execute_result",
          "data": {
            "text/html": [
              "<div>\n",
              "<style scoped>\n",
              "    .dataframe tbody tr th:only-of-type {\n",
              "        vertical-align: middle;\n",
              "    }\n",
              "\n",
              "    .dataframe tbody tr th {\n",
              "        vertical-align: top;\n",
              "    }\n",
              "\n",
              "    .dataframe thead th {\n",
              "        text-align: right;\n",
              "    }\n",
              "</style>\n",
              "<table border=\"1\" class=\"dataframe\">\n",
              "  <thead>\n",
              "    <tr style=\"text-align: right;\">\n",
              "      <th></th>\n",
              "      <th>Wine</th>\n",
              "      <th>Alcohol</th>\n",
              "      <th>Malic.acid</th>\n",
              "      <th>Ash</th>\n",
              "      <th>Acl</th>\n",
              "      <th>Mg</th>\n",
              "      <th>Phenols</th>\n",
              "      <th>Flavanoids</th>\n",
              "      <th>Nonflavanoid.phenols</th>\n",
              "      <th>Proanth</th>\n",
              "      <th>Color.int</th>\n",
              "      <th>Hue</th>\n",
              "      <th>OD</th>\n",
              "      <th>Proline</th>\n",
              "    </tr>\n",
              "  </thead>\n",
              "  <tbody>\n",
              "    <tr>\n",
              "      <th>0</th>\n",
              "      <td>1</td>\n",
              "      <td>14.23</td>\n",
              "      <td>1.71</td>\n",
              "      <td>2.43</td>\n",
              "      <td>15.6</td>\n",
              "      <td>127</td>\n",
              "      <td>2.80</td>\n",
              "      <td>3.06</td>\n",
              "      <td>0.28</td>\n",
              "      <td>2.29</td>\n",
              "      <td>5.64</td>\n",
              "      <td>1.04</td>\n",
              "      <td>3.92</td>\n",
              "      <td>1065</td>\n",
              "    </tr>\n",
              "    <tr>\n",
              "      <th>1</th>\n",
              "      <td>1</td>\n",
              "      <td>13.20</td>\n",
              "      <td>1.78</td>\n",
              "      <td>2.14</td>\n",
              "      <td>11.2</td>\n",
              "      <td>100</td>\n",
              "      <td>2.65</td>\n",
              "      <td>2.76</td>\n",
              "      <td>0.26</td>\n",
              "      <td>1.28</td>\n",
              "      <td>4.38</td>\n",
              "      <td>1.05</td>\n",
              "      <td>3.40</td>\n",
              "      <td>1050</td>\n",
              "    </tr>\n",
              "    <tr>\n",
              "      <th>2</th>\n",
              "      <td>1</td>\n",
              "      <td>13.16</td>\n",
              "      <td>2.36</td>\n",
              "      <td>2.67</td>\n",
              "      <td>18.6</td>\n",
              "      <td>101</td>\n",
              "      <td>2.80</td>\n",
              "      <td>3.24</td>\n",
              "      <td>0.30</td>\n",
              "      <td>2.81</td>\n",
              "      <td>5.68</td>\n",
              "      <td>1.03</td>\n",
              "      <td>3.17</td>\n",
              "      <td>1185</td>\n",
              "    </tr>\n",
              "    <tr>\n",
              "      <th>3</th>\n",
              "      <td>1</td>\n",
              "      <td>14.37</td>\n",
              "      <td>1.95</td>\n",
              "      <td>2.50</td>\n",
              "      <td>16.8</td>\n",
              "      <td>113</td>\n",
              "      <td>3.85</td>\n",
              "      <td>3.49</td>\n",
              "      <td>0.24</td>\n",
              "      <td>2.18</td>\n",
              "      <td>7.80</td>\n",
              "      <td>0.86</td>\n",
              "      <td>3.45</td>\n",
              "      <td>1480</td>\n",
              "    </tr>\n",
              "    <tr>\n",
              "      <th>4</th>\n",
              "      <td>1</td>\n",
              "      <td>13.24</td>\n",
              "      <td>2.59</td>\n",
              "      <td>2.87</td>\n",
              "      <td>21.0</td>\n",
              "      <td>118</td>\n",
              "      <td>2.80</td>\n",
              "      <td>2.69</td>\n",
              "      <td>0.39</td>\n",
              "      <td>1.82</td>\n",
              "      <td>4.32</td>\n",
              "      <td>1.04</td>\n",
              "      <td>2.93</td>\n",
              "      <td>735</td>\n",
              "    </tr>\n",
              "  </tbody>\n",
              "</table>\n",
              "</div>"
            ],
            "text/plain": [
              "   Wine  Alcohol  Malic.acid   Ash  ...  Color.int   Hue    OD  Proline\n",
              "0     1    14.23        1.71  2.43  ...       5.64  1.04  3.92     1065\n",
              "1     1    13.20        1.78  2.14  ...       4.38  1.05  3.40     1050\n",
              "2     1    13.16        2.36  2.67  ...       5.68  1.03  3.17     1185\n",
              "3     1    14.37        1.95  2.50  ...       7.80  0.86  3.45     1480\n",
              "4     1    13.24        2.59  2.87  ...       4.32  1.04  2.93      735\n",
              "\n",
              "[5 rows x 14 columns]"
            ]
          },
          "metadata": {
            "tags": []
          },
          "execution_count": 66
        }
      ]
    },
    {
      "cell_type": "code",
      "metadata": {
        "id": "lSkG_kmSUGFe",
        "colab_type": "code",
        "colab": {
          "base_uri": "https://localhost:8080/",
          "height": 139
        },
        "outputId": "e23112ff-c407-4c2d-c304-58ca131d0fe9"
      },
      "source": [
        "#part1qu2\n",
        "import numpy as np\n",
        "\n",
        "scores = df.to_numpy()\n",
        "np.set_printoptions(precision=3)\n",
        "scores"
      ],
      "execution_count": null,
      "outputs": [
        {
          "output_type": "execute_result",
          "data": {
            "text/plain": [
              "array([[   1.  ,   14.23,    1.71, ...,    1.04,    3.92, 1065.  ],\n",
              "       [   1.  ,   13.2 ,    1.78, ...,    1.05,    3.4 , 1050.  ],\n",
              "       [   1.  ,   13.16,    2.36, ...,    1.03,    3.17, 1185.  ],\n",
              "       ...,\n",
              "       [   3.  ,   13.27,    4.28, ...,    0.59,    1.56,  835.  ],\n",
              "       [   3.  ,   13.17,    2.59, ...,    0.6 ,    1.62,  840.  ],\n",
              "       [   3.  ,   14.13,    4.1 , ...,    0.61,    1.6 ,  560.  ]])"
            ]
          },
          "metadata": {
            "tags": []
          },
          "execution_count": 67
        }
      ]
    },
    {
      "cell_type": "code",
      "metadata": {
        "id": "9z8jiLUTqcoR",
        "colab_type": "code",
        "colab": {
          "base_uri": "https://localhost:8080/",
          "height": 124
        },
        "outputId": "01f108c7-f5a6-4fc9-d96b-81d58f85fc5a"
      },
      "source": [
        "#part1que3\n",
        "n_rows, n_col = scores.shape\n",
        "#mean\n",
        "mean_row_list = []\n",
        "mean_col_list = []\n",
        "overall_mean = scores.mean()\n",
        "for i in range(0, n_rows):\n",
        "  mean_row_list.append(scores[i].mean())\n",
        "for j in range(0, n_col):\n",
        "  mean_col_list.append(scores[:,j].mean())\n",
        "print('Row-wise mean:')\n",
        "print(mean_row_list)\n",
        "print('Column-wise mean:')\n",
        "print(mean_col_list)\n",
        "print('Overall mean:', overall_mean)"
      ],
      "execution_count": null,
      "outputs": [
        {
          "output_type": "stream",
          "text": [
            "Row-wise mean:\n",
            "[89.0, 85.36428571428571, 95.91571428571429, 117.96357142857143, 64.97785714285713, 115.44500000000001, 102.67571428571429, 104.98428571428572, 85.20142857142856, 85.53285714285714, 119.39999999999999, 101.86928571428572, 104.35714285714286, 92.26285714285714, 121.60857142857142, 105.52285714285713, 104.14999999999999, 93.05642857142857, 131.85142857142858, 72.39142857142858, 68.56642857142857, 66.22, 84.84928571428573, 82.92785714285715, 71.10428571428572, 72.42357142857142, 95.67142857142858, 102.00785714285715, 77.01214285714286, 84.46142857142857, 103.28214285714286, 119.84214285714286, 81.82214285714285, 101.62, 89.84571428571428, 76.90071428571427, 74.265, 89.55285714285715, 83.245, 67.19714285714285, 69.02571428571427, 84.23142857142857, 89.20785714285715, 59.74571428571429, 74.60714285714286, 89.14857142857143, 87.32214285714285, 81.42, 87.12214285714286, 101.87714285714286, 92.32285714285715, 100.96000000000001, 96.7942857142857, 110.33357142857143, 87.88285714285713, 92.42142857142858, 81.61714285714285, 101.84642857142856, 103.44357142857143, 45.95285714285715, 58.93428571428571, 42.69428571428572, 55.23357142857143, 40.06142857142857, 36.278571428571425, 59.13214285714286, 45.08, 45.69714285714286, 64.75428571428571, 65.42285714285714, 72.94542857142856, 39.77357142857143, 43.922142857142866, 84.98428571428572, 74.28428571428572, 40.73571428571428, 37.54214285714285, 47.10785714285714, 66.55, 44.472857142857144, 29.523571428571433, 60.89214285714286, 54.38071428571429, 46.917857142857144, 47.37214285714286, 42.699999999999996, 45.527142857142856, 50.455714285714286, 58.269999999999996, 53.42285714285714, 43.48142857142857, 42.00428571428571, 44.66357142857142, 30.634285714285713, 35.21857142857143, 82.21071428571429, 57.79785714285714, 40.04714285714285, 57.27214285714285, 39.09428571428571, 61.13928571428572, 49.78928571428571, 42.11071428571429, 39.235, 57.79928571428571, 32.76428571428571, 45.739285714285714, 44.64999999999999, 32.42142857142857, 59.06928571428572, 51.682857142857145, 33.221428571428575, 54.451428571428565, 40.89214285714286, 37.34357142857142, 38.848571428571425, 45.05142857142857, 36.13142857142857, 35.61, 50.04071428571429, 55.324999999999996, 46.61142857142857, 37.69071428571429, 37.46357142857143, 37.12642857142857, 36.87642857142857, 35.23357142857143, 44.16571428571428, 34.682857142857145, 51.021428571428565, 57.113571428571426, 49.03000000000001, 50.970000000000006, 54.29214285714285, 55.97428571428571, 60.07285714285714, 61.54, 47.950714285714284, 51.54714285714285, 53.473571428571425, 53.53142857142858, 65.85357142857143, 48.09499999999999, 49.82642857142857, 72.94857142857143, 70.35285714285715, 39.16857142857143, 54.94214285714286, 57.17285714285714, 51.60142857142858, 48.869285714285716, 46.57357142857143, 42.971428571428575, 59.35785714285714, 56.835, 62.72785714285715, 44.837857142857146, 74.23357142857142, 59.113571428571426, 55.207142857142856, 47.50857142857143, 60.13142857142857, 52.29071428571429, 59.457142857142856, 54.590714285714284, 47.60142857142858, 62.096428571428575, 59.30214285714286, 65.49071428571429, 57.590714285714284, 46.88642857142857, 43.64714278571428, 57.80285714285714, 63.87571428571429, 65.12428571428572, 72.44428571428571, 72.64071428571428, 51.471428571428575]\n",
            "Column-wise mean:\n",
            "[1.9382022471910112, 13.00061797752809, 2.3363483146067416, 2.3665168539325845, 19.49494382022472, 99.74157303370787, 2.295112359550562, 2.0292696629213487, 0.3618539325842696, 1.5908988764044945, 5.058089882022472, 0.9574494382022471, 2.6116853932584267, 746.8932584269663]\n",
            "Overall mean: 64.33398715850723\n"
          ],
          "name": "stdout"
        }
      ]
    },
    {
      "cell_type": "code",
      "metadata": {
        "id": "edUzjJvirrHT",
        "colab_type": "code",
        "colab": {
          "base_uri": "https://localhost:8080/",
          "height": 124
        },
        "outputId": "8a6cc459-1c9d-4bff-f75d-76a0ea5f4b19"
      },
      "source": [
        "#part1que3\n",
        "n_rows, n_col = scores.shape\n",
        "#median\n",
        "median_row_list = []\n",
        "median_col_list = []\n",
        "overall_median = np.median(scores)\n",
        "for i in range(0, n_rows):\n",
        "  median_row_list.append(np.median(scores[i]))\n",
        "for j in range(0, n_col):\n",
        "  median_col_list.append(np.median(scores[:,j]))\n",
        "print('Row-wise median:')\n",
        "print(median_row_list)\n",
        "print('Column-wise median:')\n",
        "print(median_col_list)\n",
        "print('Overall median:', overall_median)\n"
      ],
      "execution_count": null,
      "outputs": [
        {
          "output_type": "stream",
          "text": [
            "Row-wise median:\n",
            "[2.9299999999999997, 2.705, 2.99, 3.47, 2.835, 3.06, 2.51, 2.605, 2.825, 3.065, 3.06, 2.375, 2.6799999999999997, 2.955, 3.15, 2.865, 2.76, 2.785, 3.0599999999999996, 3.065, 3.085, 3.085, 2.745, 2.5, 2.61, 2.9400000000000004, 2.895, 2.295, 2.96, 2.49, 2.855, 2.87, 2.5549999999999997, 2.845, 2.59, 2.84, 2.73, 2.48, 2.52, 3.285, 3.2199999999999998, 2.84, 3.4050000000000002, 2.8200000000000003, 3.0, 3.09, 3.3449999999999998, 3.215, 2.75, 2.99, 2.91, 2.795, 3.5, 2.8600000000000003, 2.75, 2.87, 3.1, 2.92, 3.135, 1.885, 2.025, 2.01, 2.05, 2.9850000000000003, 2.115, 2.49, 3.08, 2.0549999999999997, 2.1799999999999997, 2.25, 1.9100000000000001, 2.9050000000000002, 2.12, 3.0949999999999998, 2.715, 1.96, 2.0149999999999997, 2.375, 2.1550000000000002, 2.7, 2.34, 2.365, 2.1, 2.165, 2.465, 2.22, 2.13, 2.3, 2.26, 2.1, 2.135, 2.21, 2.0300000000000002, 2.35, 2.62, 2.55, 2.19, 2.525, 3.145, 2.84, 2.2, 1.95, 2.51, 2.0300000000000002, 2.1, 2.41, 2.075, 2.1399999999999997, 2.2199999999999998, 2.72, 3.04, 2.35, 2.59, 2.395, 2.5300000000000002, 2.185, 1.9849999999999999, 2.075, 2.06, 2.0, 2.8449999999999998, 3.46, 2.465, 2.635, 2.9699999999999998, 2.625, 2.79, 2.34, 2.26, 2.4749999999999996, 1.915, 2.6950000000000003, 2.355, 2.6799999999999997, 2.125, 2.33, 2.77, 2.8200000000000003, 2.5949999999999998, 2.785, 2.755, 2.515, 2.8600000000000003, 2.675, 2.6, 2.575, 2.615, 2.74, 2.69, 2.6799999999999997, 2.81, 2.575, 2.475, 2.6399999999999997, 1.8250000000000002, 2.66, 2.69, 2.8200000000000003, 2.75, 2.62, 2.69, 2.77, 2.79, 2.675, 2.53, 2.63, 2.8, 2.65, 2.635, 2.9299999999999997, 2.66, 2.335, 2.495, 2.725, 2.74, 2.63, 2.48, 2.87]\n",
            "Column-wise median:\n",
            "[2.0, 13.05, 1.8650000000000002, 2.36, 19.5, 98.0, 2.355, 2.135, 0.34, 1.5550000000000002, 4.6899999999999995, 0.965, 2.78, 673.5]\n",
            "Overall median: 2.6\n"
          ],
          "name": "stdout"
        }
      ]
    },
    {
      "cell_type": "code",
      "metadata": {
        "id": "US8N-Vs0t3mo",
        "colab_type": "code",
        "colab": {
          "base_uri": "https://localhost:8080/",
          "height": 141
        },
        "outputId": "871d37a5-96ea-47b3-fce7-edd2884bed5e"
      },
      "source": [
        "#part1que3\n",
        "n_rows, n_col = scores.shape\n",
        "#mode\n",
        "from scipy import stats\n",
        "mode_row_list = []\n",
        "mode_col_list = []\n",
        "overall_mode = stats.mode(scores)\n",
        "for i in range(0, n_rows):\n",
        "  mode_row_list.append(stats.mode(scores[i]))\n",
        "for j in range(0, n_col):\n",
        "  mode_col_list.append(stats.mode(scores[:,j]))\n",
        "print('Row-wise mode:')\n",
        "print(mode_row_list)\n",
        "print('Column-wise mode:')\n",
        "print(median_col_list)\n",
        "print('Overall mode:', overall_mode)\n"
      ],
      "execution_count": null,
      "outputs": [
        {
          "output_type": "stream",
          "text": [
            "Row-wise mode:\n",
            "[ModeResult(mode=array([0.28]), count=array([1])), ModeResult(mode=array([0.26]), count=array([1])), ModeResult(mode=array([0.3]), count=array([1])), ModeResult(mode=array([0.24]), count=array([1])), ModeResult(mode=array([0.39]), count=array([1])), ModeResult(mode=array([0.34]), count=array([1])), ModeResult(mode=array([0.3]), count=array([1])), ModeResult(mode=array([0.31]), count=array([1])), ModeResult(mode=array([0.29]), count=array([1])), ModeResult(mode=array([0.22]), count=array([1])), ModeResult(mode=array([0.22]), count=array([1])), ModeResult(mode=array([0.26]), count=array([1])), ModeResult(mode=array([0.29]), count=array([1])), ModeResult(mode=array([0.43]), count=array([1])), ModeResult(mode=array([0.29]), count=array([1])), ModeResult(mode=array([0.3]), count=array([1])), ModeResult(mode=array([0.33]), count=array([1])), ModeResult(mode=array([0.4]), count=array([1])), ModeResult(mode=array([0.32]), count=array([1])), ModeResult(mode=array([0.17]), count=array([1])), ModeResult(mode=array([0.24]), count=array([1])), ModeResult(mode=array([2.41]), count=array([2])), ModeResult(mode=array([0.27]), count=array([1])), ModeResult(mode=array([0.26]), count=array([1])), ModeResult(mode=array([2.61]), count=array([2])), ModeResult(mode=array([0.47]), count=array([1])), ModeResult(mode=array([0.34]), count=array([1])), ModeResult(mode=array([0.27]), count=array([1])), ModeResult(mode=array([0.37]), count=array([1])), ModeResult(mode=array([0.26]), count=array([1])), ModeResult(mode=array([0.29]), count=array([1])), ModeResult(mode=array([0.22]), count=array([1])), ModeResult(mode=array([0.42]), count=array([1])), ModeResult(mode=array([0.5]), count=array([1])), ModeResult(mode=array([0.29]), count=array([1])), ModeResult(mode=array([0.26]), count=array([1])), ModeResult(mode=array([0.34]), count=array([1])), ModeResult(mode=array([0.29]), count=array([1])), ModeResult(mode=array([0.28]), count=array([1])), ModeResult(mode=array([0.2]), count=array([1])), ModeResult(mode=array([0.34]), count=array([1])), ModeResult(mode=array([0.27]), count=array([1])), ModeResult(mode=array([3.56]), count=array([2])), ModeResult(mode=array([0.32]), count=array([1])), ModeResult(mode=array([3.]), count=array([2])), ModeResult(mode=array([0.3]), count=array([1])), ModeResult(mode=array([0.27]), count=array([1])), ModeResult(mode=array([0.21]), count=array([1])), ModeResult(mode=array([2.75]), count=array([2])), ModeResult(mode=array([0.32]), count=array([1])), ModeResult(mode=array([2.91]), count=array([2])), ModeResult(mode=array([0.22]), count=array([1])), ModeResult(mode=array([0.32]), count=array([1])), ModeResult(mode=array([0.39]), count=array([1])), ModeResult(mode=array([0.21]), count=array([1])), ModeResult(mode=array([0.2]), count=array([1])), ModeResult(mode=array([0.26]), count=array([1])), ModeResult(mode=array([0.31]), count=array([1])), ModeResult(mode=array([0.19]), count=array([1])), ModeResult(mode=array([0.28]), count=array([1])), ModeResult(mode=array([0.41]), count=array([1])), ModeResult(mode=array([2.02]), count=array([2])), ModeResult(mode=array([0.32]), count=array([1])), ModeResult(mode=array([0.19]), count=array([1])), ModeResult(mode=array([1.45]), count=array([2])), ModeResult(mode=array([0.37]), count=array([1])), ModeResult(mode=array([3.18]), count=array([2])), ModeResult(mode=array([2.]), count=array([2])), ModeResult(mode=array([0.42]), count=array([1])), ModeResult(mode=array([1.28]), count=array([2])), ModeResult(mode=array([0.37]), count=array([1])), ModeResult(mode=array([0.21]), count=array([1])), ModeResult(mode=array([0.27]), count=array([1])), ModeResult(mode=array([0.21]), count=array([1])), ModeResult(mode=array([0.13]), count=array([1])), ModeResult(mode=array([0.34]), count=array([1])), ModeResult(mode=array([0.24]), count=array([1])), ModeResult(mode=array([0.43]), count=array([1])), ModeResult(mode=array([0.35]), count=array([1])), ModeResult(mode=array([0.43]), count=array([1])), ModeResult(mode=array([2.]), count=array([2])), ModeResult(mode=array([2.2]), count=array([2])), ModeResult(mode=array([2.]), count=array([2])), ModeResult(mode=array([0.61]), count=array([1])), ModeResult(mode=array([0.22]), count=array([1])), ModeResult(mode=array([0.3]), count=array([1])), ModeResult(mode=array([0.43]), count=array([1])), ModeResult(mode=array([0.4]), count=array([1])), ModeResult(mode=array([0.48]), count=array([1])), ModeResult(mode=array([0.42]), count=array([1])), ModeResult(mode=array([0.52]), count=array([1])), ModeResult(mode=array([0.5]), count=array([1])), ModeResult(mode=array([0.58]), count=array([1])), ModeResult(mode=array([0.25]), count=array([1])), ModeResult(mode=array([0.17]), count=array([1])), ModeResult(mode=array([0.32]), count=array([1])), ModeResult(mode=array([0.14]), count=array([1])), ModeResult(mode=array([0.29]), count=array([1])), ModeResult(mode=array([0.24]), count=array([1])), ModeResult(mode=array([0.45]), count=array([1])), ModeResult(mode=array([0.26]), count=array([1])), ModeResult(mode=array([0.29]), count=array([1])), ModeResult(mode=array([0.34]), count=array([1])), ModeResult(mode=array([0.37]), count=array([1])), ModeResult(mode=array([0.32]), count=array([1])), ModeResult(mode=array([0.66]), count=array([1])), ModeResult(mode=array([0.37]), count=array([1])), ModeResult(mode=array([0.48]), count=array([1])), ModeResult(mode=array([0.39]), count=array([1])), ModeResult(mode=array([0.29]), count=array([1])), ModeResult(mode=array([0.24]), count=array([1])), ModeResult(mode=array([2.]), count=array([2])), ModeResult(mode=array([0.6]), count=array([1])), ModeResult(mode=array([0.42]), count=array([1])), ModeResult(mode=array([0.43]), count=array([1])), ModeResult(mode=array([0.52]), count=array([1])), ModeResult(mode=array([0.3]), count=array([1])), ModeResult(mode=array([1.61]), count=array([2])), ModeResult(mode=array([0.43]), count=array([1])), ModeResult(mode=array([2.]), count=array([3])), ModeResult(mode=array([0.32]), count=array([1])), ModeResult(mode=array([0.47]), count=array([1])), ModeResult(mode=array([0.43]), count=array([1])), ModeResult(mode=array([0.3]), count=array([1])), ModeResult(mode=array([0.21]), count=array([1])), ModeResult(mode=array([0.37]), count=array([1])), ModeResult(mode=array([0.39]), count=array([1])), ModeResult(mode=array([2.13]), count=array([2])), ModeResult(mode=array([0.4]), count=array([1])), ModeResult(mode=array([0.42]), count=array([1])), ModeResult(mode=array([0.21]), count=array([1])), ModeResult(mode=array([0.24]), count=array([1])), ModeResult(mode=array([0.27]), count=array([1])), ModeResult(mode=array([0.17]), count=array([1])), ModeResult(mode=array([0.58]), count=array([1])), ModeResult(mode=array([0.63]), count=array([1])), ModeResult(mode=array([0.47]), count=array([1])), ModeResult(mode=array([0.6]), count=array([1])), ModeResult(mode=array([0.48]), count=array([1])), ModeResult(mode=array([0.53]), count=array([1])), ModeResult(mode=array([0.5]), count=array([1])), ModeResult(mode=array([0.37]), count=array([1])), ModeResult(mode=array([0.5]), count=array([1])), ModeResult(mode=array([0.47]), count=array([1])), ModeResult(mode=array([0.29]), count=array([1])), ModeResult(mode=array([0.43]), count=array([1])), ModeResult(mode=array([0.34]), count=array([1])), ModeResult(mode=array([0.47]), count=array([1])), ModeResult(mode=array([0.45]), count=array([1])), ModeResult(mode=array([0.34]), count=array([1])), ModeResult(mode=array([0.22]), count=array([1])), ModeResult(mode=array([0.24]), count=array([1])), ModeResult(mode=array([0.26]), count=array([1])), ModeResult(mode=array([0.56]), count=array([1])), ModeResult(mode=array([0.58]), count=array([2])), ModeResult(mode=array([0.6]), count=array([1])), ModeResult(mode=array([0.48]), count=array([1])), ModeResult(mode=array([0.58]), count=array([1])), ModeResult(mode=array([2.7]), count=array([2])), ModeResult(mode=array([0.52]), count=array([1])), ModeResult(mode=array([0.5]), count=array([1])), ModeResult(mode=array([0.5]), count=array([1])), ModeResult(mode=array([0.6]), count=array([2])), ModeResult(mode=array([0.4]), count=array([1])), ModeResult(mode=array([0.41]), count=array([1])), ModeResult(mode=array([0.47]), count=array([1])), ModeResult(mode=array([0.43]), count=array([1])), ModeResult(mode=array([0.4]), count=array([1])), ModeResult(mode=array([0.39]), count=array([1])), ModeResult(mode=array([0.27]), count=array([1])), ModeResult(mode=array([0.4]), count=array([1])), ModeResult(mode=array([0.48]), count=array([1])), ModeResult(mode=array([0.44]), count=array([1])), ModeResult(mode=array([0.52]), count=array([1])), ModeResult(mode=array([0.43]), count=array([1])), ModeResult(mode=array([0.43]), count=array([1])), ModeResult(mode=array([0.53]), count=array([1])), ModeResult(mode=array([0.56]), count=array([1]))]\n",
            "Column-wise mode:\n",
            "[2.0, 13.05, 1.8650000000000002, 2.36, 19.5, 98.0, 2.355, 2.135, 0.34, 1.5550000000000002, 4.6899999999999995, 0.965, 2.78, 673.5]\n",
            "Overall mode: ModeResult(mode=array([[  2.  ,  12.37,   1.73,   2.28,  20.  ,  88.  ,   2.2 ,   2.65,\n",
            "          0.26,   1.35,   2.6 ,   1.04,   2.87, 520.  ]]), count=array([[71,  6,  7,  7, 15, 13,  8,  4, 11,  9,  4,  8,  5,  5]]))\n"
          ],
          "name": "stdout"
        }
      ]
    },
    {
      "cell_type": "code",
      "metadata": {
        "id": "hDPXtHO2u7x0",
        "colab_type": "code",
        "colab": {
          "base_uri": "https://localhost:8080/",
          "height": 124
        },
        "outputId": "41ee136f-38c6-42b4-9c2a-3691c58ff9ec"
      },
      "source": [
        "#part1que3\n",
        "n_rows, n_col = scores.shape\n",
        "#standard_deviation\n",
        "std_row_list = []\n",
        "std_col_list = []\n",
        "overall_std = scores.std()\n",
        "for i in range(0, n_rows):\n",
        "  std_row_list.append(scores[i].std())\n",
        "for j in range(0, n_col):\n",
        "  std_col_list.append(scores[:,j].std())\n",
        "print('Row-wise Standard Deviation:')\n",
        "print(mean_row_list)\n",
        "print('Column-wise Standard Deviation:')\n",
        "print(mean_col_list)\n",
        "print('Overall Standard Deviation:', overall_std)"
      ],
      "execution_count": null,
      "outputs": [
        {
          "output_type": "stream",
          "text": [
            "Row-wise Standard Deviation:\n",
            "[89.0, 85.36428571428571, 95.91571428571429, 117.96357142857143, 64.97785714285713, 115.44500000000001, 102.67571428571429, 104.98428571428572, 85.20142857142856, 85.53285714285714, 119.39999999999999, 101.86928571428572, 104.35714285714286, 92.26285714285714, 121.60857142857142, 105.52285714285713, 104.14999999999999, 93.05642857142857, 131.85142857142858, 72.39142857142858, 68.56642857142857, 66.22, 84.84928571428573, 82.92785714285715, 71.10428571428572, 72.42357142857142, 95.67142857142858, 102.00785714285715, 77.01214285714286, 84.46142857142857, 103.28214285714286, 119.84214285714286, 81.82214285714285, 101.62, 89.84571428571428, 76.90071428571427, 74.265, 89.55285714285715, 83.245, 67.19714285714285, 69.02571428571427, 84.23142857142857, 89.20785714285715, 59.74571428571429, 74.60714285714286, 89.14857142857143, 87.32214285714285, 81.42, 87.12214285714286, 101.87714285714286, 92.32285714285715, 100.96000000000001, 96.7942857142857, 110.33357142857143, 87.88285714285713, 92.42142857142858, 81.61714285714285, 101.84642857142856, 103.44357142857143, 45.95285714285715, 58.93428571428571, 42.69428571428572, 55.23357142857143, 40.06142857142857, 36.278571428571425, 59.13214285714286, 45.08, 45.69714285714286, 64.75428571428571, 65.42285714285714, 72.94542857142856, 39.77357142857143, 43.922142857142866, 84.98428571428572, 74.28428571428572, 40.73571428571428, 37.54214285714285, 47.10785714285714, 66.55, 44.472857142857144, 29.523571428571433, 60.89214285714286, 54.38071428571429, 46.917857142857144, 47.37214285714286, 42.699999999999996, 45.527142857142856, 50.455714285714286, 58.269999999999996, 53.42285714285714, 43.48142857142857, 42.00428571428571, 44.66357142857142, 30.634285714285713, 35.21857142857143, 82.21071428571429, 57.79785714285714, 40.04714285714285, 57.27214285714285, 39.09428571428571, 61.13928571428572, 49.78928571428571, 42.11071428571429, 39.235, 57.79928571428571, 32.76428571428571, 45.739285714285714, 44.64999999999999, 32.42142857142857, 59.06928571428572, 51.682857142857145, 33.221428571428575, 54.451428571428565, 40.89214285714286, 37.34357142857142, 38.848571428571425, 45.05142857142857, 36.13142857142857, 35.61, 50.04071428571429, 55.324999999999996, 46.61142857142857, 37.69071428571429, 37.46357142857143, 37.12642857142857, 36.87642857142857, 35.23357142857143, 44.16571428571428, 34.682857142857145, 51.021428571428565, 57.113571428571426, 49.03000000000001, 50.970000000000006, 54.29214285714285, 55.97428571428571, 60.07285714285714, 61.54, 47.950714285714284, 51.54714285714285, 53.473571428571425, 53.53142857142858, 65.85357142857143, 48.09499999999999, 49.82642857142857, 72.94857142857143, 70.35285714285715, 39.16857142857143, 54.94214285714286, 57.17285714285714, 51.60142857142858, 48.869285714285716, 46.57357142857143, 42.971428571428575, 59.35785714285714, 56.835, 62.72785714285715, 44.837857142857146, 74.23357142857142, 59.113571428571426, 55.207142857142856, 47.50857142857143, 60.13142857142857, 52.29071428571429, 59.457142857142856, 54.590714285714284, 47.60142857142858, 62.096428571428575, 59.30214285714286, 65.49071428571429, 57.590714285714284, 46.88642857142857, 43.64714278571428, 57.80285714285714, 63.87571428571429, 65.12428571428572, 72.44428571428571, 72.64071428571428, 51.471428571428575]\n",
            "Column-wise Standard Deviation:\n",
            "[1.9382022471910112, 13.00061797752809, 2.3363483146067416, 2.3665168539325845, 19.49494382022472, 99.74157303370787, 2.295112359550562, 2.0292696629213487, 0.3618539325842696, 1.5908988764044945, 5.058089882022472, 0.9574494382022471, 2.6116853932584267, 746.8932584269663]\n",
            "Overall Standard Deviation: 208.61735837075227\n"
          ],
          "name": "stdout"
        }
      ]
    },
    {
      "cell_type": "code",
      "metadata": {
        "id": "KnzVwDxaaGBt",
        "colab_type": "code",
        "colab": {
          "base_uri": "https://localhost:8080/",
          "height": 34
        },
        "outputId": "137f58aa-821b-4717-ee89-8389a65f7bd1"
      },
      "source": [
        "#part2\n",
        "from scipy.stats import pearsonr\n",
        "l1 = df['Alcohol']\n",
        "l2 = df['Proline']\n",
        "p_corr = pearsonr(l1,l2)\n",
        "p_corr"
      ],
      "execution_count": null,
      "outputs": [
        {
          "output_type": "execute_result",
          "data": {
            "text/plain": [
              "(0.6437200371782135, 3.288368689992126e-22)"
            ]
          },
          "metadata": {
            "tags": []
          },
          "execution_count": 72
        }
      ]
    },
    {
      "cell_type": "code",
      "metadata": {
        "id": "eWMXc-IEvdpU",
        "colab_type": "code",
        "colab": {
          "base_uri": "https://localhost:8080/",
          "height": 121
        },
        "outputId": "3faf9f4a-a4f8-489e-c49c-6ffbe2332c75"
      },
      "source": [
        "#part2\n",
        "import numpy as np\n",
        "my_choice = df[['Acl','Ash','Mg','Flavanoids','Proanth']]\n",
        "\n",
        "df2 = my_choice.copy()\n",
        "#print(df2.head())\n",
        "mat = df2.to_numpy()\n",
        "#print(mat)\n",
        "cov_mat = np.cov(mat.T)\n",
        "print('Covarience Matrix:')\n",
        "print(cov_mat)"
      ],
      "execution_count": null,
      "outputs": [
        {
          "output_type": "stream",
          "text": [
            "Covarience Matrix:\n",
            "[[ 11.153   0.406  -3.975  -1.172  -0.377]\n",
            " [  0.406   0.075   1.123   0.032   0.002]\n",
            " [ -3.975   1.123 203.989   2.793   1.933]\n",
            " [ -1.172   0.032   2.793   0.998   0.373]\n",
            " [ -0.377   0.002   1.933   0.373   0.328]]\n"
          ],
          "name": "stdout"
        }
      ]
    },
    {
      "cell_type": "code",
      "metadata": {
        "id": "hmGAU1WqOIsZ",
        "colab_type": "code",
        "colab": {}
      },
      "source": [
        ""
      ],
      "execution_count": null,
      "outputs": []
    }
  ]
}