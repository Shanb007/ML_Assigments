{
  "nbformat": 4,
  "nbformat_minor": 0,
  "metadata": {
    "colab": {
      "name": "Assignment0_ML",
      "provenance": [],
      "collapsed_sections": [],
      "authorship_tag": "ABX9TyMhT2PBG19StOLm2OXqzNKk",
      "include_colab_link": true
    },
    "kernelspec": {
      "name": "python3",
      "display_name": "Python 3"
    }
  },
  "cells": [
    {
      "cell_type": "markdown",
      "metadata": {
        "id": "view-in-github",
        "colab_type": "text"
      },
      "source": [
        "<a href=\"https://colab.research.google.com/github/Shanb007/ML_Assigments/blob/master/Assignment0_ML.ipynb\" target=\"_parent\"><img src=\"https://colab.research.google.com/assets/colab-badge.svg\" alt=\"Open In Colab\"/></a>"
      ]
    },
    {
      "cell_type": "code",
      "metadata": {
        "id": "aQdNkuDjKgv3",
        "colab_type": "code",
        "colab": {
          "base_uri": "https://localhost:8080/",
          "height": 52
        },
        "outputId": "bd440644-217e-4fe0-cf52-bc46eb4d2d74"
      },
      "source": [
        "import sys\n",
        "print(sys.version)"
      ],
      "execution_count": null,
      "outputs": [
        {
          "output_type": "stream",
          "text": [
            "3.6.9 (default, Jul 17 2020, 12:50:27) \n",
            "[GCC 8.4.0]\n"
          ],
          "name": "stdout"
        }
      ]
    },
    {
      "cell_type": "code",
      "metadata": {
        "id": "ZME5oV65KpjZ",
        "colab_type": "code",
        "colab": {
          "base_uri": "https://localhost:8080/",
          "height": 34
        },
        "outputId": "3c36ef42-f5c0-48ee-a3cf-154bfef4e376"
      },
      "source": [
        "import site\n",
        "print(site.getsitepackages())"
      ],
      "execution_count": null,
      "outputs": [
        {
          "output_type": "stream",
          "text": [
            "['/usr/local/lib/python3.6/dist-packages', '/usr/lib/python3/dist-packages', '/usr/lib/python3.6/dist-packages']\n"
          ],
          "name": "stdout"
        }
      ]
    },
    {
      "cell_type": "code",
      "metadata": {
        "id": "d-4Vn8VyK8I5",
        "colab_type": "code",
        "colab": {
          "base_uri": "https://localhost:8080/",
          "height": 34
        },
        "outputId": "781b1fc7-3174-46b3-9630-cbab79ef593f"
      },
      "source": [
        "import os\n",
        "print('PAth:',os.path)\n",
        "\n",
        "#doubt"
      ],
      "execution_count": null,
      "outputs": [
        {
          "output_type": "stream",
          "text": [
            "PAth: <module 'posixpath' from '/usr/lib/python3.6/posixpath.py'>\n"
          ],
          "name": "stdout"
        }
      ]
    },
    {
      "cell_type": "code",
      "metadata": {
        "id": "WgKb5m9eLAYW",
        "colab_type": "code",
        "colab": {
          "base_uri": "https://localhost:8080/",
          "height": 225
        },
        "outputId": "3e1b5488-325a-4067-e551-db9c93a0eb52"
      },
      "source": [
        "import numpy as np\n",
        "a = np.random.rand(2,3)\n",
        "print(\"Matrix a: \")\n",
        "print(a)\n",
        "b = np.random.rand(3,2)\n",
        "print(\"Matrix b: \")\n",
        "print(b)\n",
        "print('\\n')\n",
        "print(\"The Dot product:\")\n",
        "print(a.dot(b))"
      ],
      "execution_count": null,
      "outputs": [
        {
          "output_type": "stream",
          "text": [
            "Matrix a: \n",
            "[[0.05999579 0.97580095 0.8018232 ]\n",
            " [0.72394103 0.5704121  0.46452101]]\n",
            "Matrix b: \n",
            "[[0.92809234 0.87489485]\n",
            " [0.04441364 0.63462333]\n",
            " [0.70437107 0.05144781]]\n",
            "\n",
            "\n",
            "The Dot product:\n",
            "[[0.66380157 0.71300811]\n",
            " [1.02441336 1.0192677 ]]\n"
          ],
          "name": "stdout"
        }
      ]
    },
    {
      "cell_type": "code",
      "metadata": {
        "id": "og0qr5ioNXjb",
        "colab_type": "code",
        "colab": {
          "base_uri": "https://localhost:8080/",
          "height": 69
        },
        "outputId": "6c0b8c63-f9d3-40ed-e374-b1c1378b1a1e"
      },
      "source": [
        "import numpy as np\n",
        "sum = np.arange(4).reshape(2,2)\n",
        "sum = 0 * sum\n",
        "for i in range(0,6):\n",
        "  a = np.random.rand(2,3)\n",
        "  b = np.random.rand(3,2)\n",
        "  z = a.dot(b)\n",
        "  sum = sum + z\n",
        "\n",
        "avg = z/5\n",
        "print(\"The average matrix: \")\n",
        "print(avg)"
      ],
      "execution_count": null,
      "outputs": [
        {
          "output_type": "stream",
          "text": [
            "The average matrix: \n",
            "[[0.07391825 0.06049454]\n",
            " [0.10577005 0.07398034]]\n"
          ],
          "name": "stdout"
        }
      ]
    },
    {
      "cell_type": "code",
      "metadata": {
        "id": "6xZP8kmAQCsY",
        "colab_type": "code",
        "colab": {
          "base_uri": "https://localhost:8080/",
          "height": 69
        },
        "outputId": "f424a76a-b15e-44d5-e543-44179d95662a"
      },
      "source": [
        "import numpy as np\n",
        "import csv\n",
        "\n",
        "np.savetxt('file1.csv', avg , fmt= '%f')\n",
        "c = np.genfromtxt(\"file1.csv\")\n",
        "t = c.T\n",
        "print(\"Transposed Matrix: \")\n",
        "print(t)\n",
        "\n",
        "\n"
      ],
      "execution_count": null,
      "outputs": [
        {
          "output_type": "stream",
          "text": [
            "Transposed Matrix: \n",
            "[[0.073918 0.10577 ]\n",
            " [0.060495 0.07398 ]]\n"
          ],
          "name": "stdout"
        }
      ]
    },
    {
      "cell_type": "code",
      "metadata": {
        "id": "gQudJcnRSKTz",
        "colab_type": "code",
        "colab": {
          "base_uri": "https://localhost:8080/",
          "height": 69
        },
        "outputId": "3c15adb6-f318-4ab9-d730-36c5def13e63"
      },
      "source": [
        "from scipy import stats\n",
        "mean_t = t.mean()\n",
        "print('Mean:',mean_t)\n",
        "p=t.reshape(4,1)\n",
        "mode_t = stats.mode(p)\n",
        "print('Mode:',mode_t)\n",
        "median_t = np.median(t)\n",
        "print('Median:',median_t)"
      ],
      "execution_count": null,
      "outputs": [
        {
          "output_type": "stream",
          "text": [
            "Mean: 0.07854075\n",
            "Mode: ModeResult(mode=array([[0.060495]]), count=array([[1]]))\n",
            "Median: 0.073949\n"
          ],
          "name": "stdout"
        }
      ]
    },
    {
      "cell_type": "code",
      "metadata": {
        "id": "T3_7EgIWb2FJ",
        "colab_type": "code",
        "colab": {
          "base_uri": "https://localhost:8080/",
          "height": 52
        },
        "outputId": "3589f5fe-a65f-4e4c-d15e-49073713d727"
      },
      "source": [
        "row, col = t.shape\n",
        "for i in range(0, row):\n",
        "  for j in range(0, col):\n",
        "    if (i > j):\n",
        "      print(\"0\",end = \" \"); \n",
        "    else:\n",
        "      print(t[i][j],end = \" \" ); \n",
        "  print(\" \")"
      ],
      "execution_count": null,
      "outputs": [
        {
          "output_type": "stream",
          "text": [
            "0.073918 0.10577  \n",
            "0 0.07398  \n"
          ],
          "name": "stdout"
        }
      ]
    },
    {
      "cell_type": "code",
      "metadata": {
        "id": "0U4zOkPidv1r",
        "colab_type": "code",
        "colab": {}
      },
      "source": [
        ""
      ],
      "execution_count": null,
      "outputs": []
    },
    {
      "cell_type": "code",
      "metadata": {
        "id": "U4LSUzhKfuQf",
        "colab_type": "code",
        "colab": {
          "base_uri": "https://localhost:8080/",
          "height": 69
        },
        "outputId": "3b110f0c-a266-4612-8449-96c6ed82128d"
      },
      "source": [
        "import csv\n",
        "col_num = int(input())\n",
        "with open('file1.csv', 'r') as file:\n",
        "    read = csv.reader(file , delimiter= ' ')\n",
        "    for row in read:\n",
        "      print(row[col_num])"
      ],
      "execution_count": null,
      "outputs": [
        {
          "output_type": "stream",
          "text": [
            "0\n",
            "0.073918\n",
            "0.105770\n"
          ],
          "name": "stdout"
        }
      ]
    },
    {
      "cell_type": "code",
      "metadata": {
        "id": "-1rVooK_jY6J",
        "colab_type": "code",
        "colab": {
          "base_uri": "https://localhost:8080/",
          "height": 156
        },
        "outputId": "27fb7ee7-4415-40ef-a128-96e79fd283ff"
      },
      "source": [
        "import csv\n",
        "import numpy as np\n",
        "\n",
        "try1 = np.random.randint(4, size=(3,3))\n",
        "print(try1)\n",
        "np.savetxt('file2.csv',try1 , fmt= '%i' )\n",
        "print(\"Enter the number from above matrix, you want to change: \")\n",
        "num = str(input())\n",
        "text = open(\"file2.csv\", \"r\")\n",
        "text = ''.join([i for i in text]).replace(num, \"A\")\n",
        "x = open(\"file2.csv\",\"w\")\n",
        "x.writelines(text)\n",
        "x.close()\n",
        "\n",
        "\n",
        "with open('file2.csv', 'r') as file:\n",
        "    read = csv.reader(file)\n",
        "    for row in read:\n",
        "      print(row)\n",
        "\n",
        "\n",
        "\n",
        "\n"
      ],
      "execution_count": null,
      "outputs": [
        {
          "output_type": "stream",
          "text": [
            "[[2 2 2]\n",
            " [2 1 2]\n",
            " [2 2 2]]\n",
            "Enter the number from above matrix, you want to change: \n",
            "2\n",
            "['A A A']\n",
            "['A 1 A']\n",
            "['A A A']\n"
          ],
          "name": "stdout"
        }
      ]
    },
    {
      "cell_type": "code",
      "metadata": {
        "id": "SKuXyymFlUOV",
        "colab_type": "code",
        "colab": {}
      },
      "source": [
        ""
      ],
      "execution_count": null,
      "outputs": []
    }
  ]
}